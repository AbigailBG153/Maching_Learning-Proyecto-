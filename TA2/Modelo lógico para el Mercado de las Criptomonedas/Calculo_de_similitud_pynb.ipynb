{
  "nbformat": 4,
  "nbformat_minor": 0,
  "metadata": {
    "colab": {
      "provenance": []
    },
    "kernelspec": {
      "name": "python3",
      "display_name": "Python 3"
    },
    "language_info": {
      "name": "python"
    }
  },
  "cells": [
    {
      "cell_type": "code",
      "execution_count": null,
      "metadata": {
        "id": "cITEAEVU4TcD"
      },
      "outputs": [],
      "source": [
        "import ast\n",
        "\n",
        "def calcular_similitud_proyecto_exchange():\n",
        "    similitudes = []  # Lista para almacenar todas las similitudes\n",
        "\n",
        "    # Iterar sobre cada proyecto\n",
        "    for proyecto_index, proyecto_row in df_criptomonedas.iterrows():\n",
        "        proyecto_nombre = proyecto_row['name']\n",
        "        for exchange_index, exchange_row in df_exchanges.iterrows():\n",
        "            exchange_nombre = exchange_row['name']\n",
        "\n",
        "            # Obtener la cadena de la columna 'quote' del proyecto\n",
        "            cadena_quote = proyecto_row['quote']\n",
        "\n",
        "            # Convertir la cadena en un diccionario utilizando ast.literal_eval\n",
        "            diccionario_quote = ast.literal_eval(cadena_quote)\n",
        "\n",
        "            # Extraer el precio y el volumen en USD\n",
        "            precio_usd = diccionario_quote['USD']['price']\n",
        "            volumen_usd = diccionario_quote['USD']['volume_24h']\n",
        "\n",
        "            # Verificar si alguno de los valores es None y asignar 0 si es así\n",
        "            precio_usd = precio_usd if precio_usd is not None else 0\n",
        "            volumen_usd = volumen_usd if volumen_usd is not None else 0\n",
        "\n",
        "            # Obtener el volumen de operaciones del exchange\n",
        "            volumen_exchange = exchange_row[\"trade_volume_24h_btc\"]\n",
        "\n",
        "            # Calcular similitud (por ejemplo, usando el producto del precio y el volumen)\n",
        "            similitud = 1 + precio_usd * volumen_usd * volumen_exchange\n",
        "            similitudes.append((proyecto_nombre, exchange_nombre, similitud))  # Agregar similitud a la lista\n",
        "\n",
        "    return similitudes\n",
        "\n",
        "# Calcular todas las similitudes\n",
        "todas_similitudes = calcular_similitud_proyecto_exchange()\n",
        "\n",
        "# Mostrar todas las similitudes calculadas\n",
        "for similitud in todas_similitudes:\n",
        "    print(f\"Similitud entre '{similitud[0]}' y '{similitud[1]}': {similitud[2]}\")\n"
      ]
    }
  ]
}