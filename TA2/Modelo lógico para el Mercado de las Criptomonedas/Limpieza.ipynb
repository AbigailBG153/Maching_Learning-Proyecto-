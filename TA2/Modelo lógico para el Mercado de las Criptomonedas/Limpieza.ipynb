{
 "cells": [
  {
   "cell_type": "markdown",
   "metadata": {},
   "source": [
    "# Limpieza de la dataset de criptomonedas"
   ]
  },
  {
   "cell_type": "code",
   "execution_count": 86,
   "metadata": {},
   "outputs": [],
   "source": [
    "import pandas as pd\n",
    "import numpy as np\n",
    "\n",
    "df = pd.read_csv('data_criptomonedas.csv')"
   ]
  },
  {
   "cell_type": "code",
   "execution_count": 87,
   "metadata": {},
   "outputs": [
    {
     "name": "stdout",
     "output_type": "stream",
     "text": [
      "<class 'pandas.core.frame.DataFrame'>\n",
      "RangeIndex: 2950 entries, 0 to 2949\n",
      "Data columns (total 21 columns):\n",
      " #   Column                            Non-Null Count  Dtype  \n",
      "---  ------                            --------------  -----  \n",
      " 0   id                                2950 non-null   int64  \n",
      " 1   name                              2950 non-null   object \n",
      " 2   symbol                            2950 non-null   object \n",
      " 3   slug                              2950 non-null   object \n",
      " 4   num_market_pairs                  2950 non-null   int64  \n",
      " 5   date_added                        2950 non-null   object \n",
      " 6   tags                              2950 non-null   object \n",
      " 7   max_supply                        2480 non-null   float64\n",
      " 8   circulating_supply                2950 non-null   float64\n",
      " 9   total_supply                      2950 non-null   float64\n",
      " 10  platform                          2848 non-null   object \n",
      " 11  is_active                         2950 non-null   int64  \n",
      " 12  infinite_supply                   2950 non-null   bool   \n",
      " 13  cmc_rank                          1756 non-null   float64\n",
      " 14  is_fiat                           2950 non-null   int64  \n",
      " 15  self_reported_circulating_supply  2347 non-null   float64\n",
      " 16  self_reported_market_cap          2347 non-null   float64\n",
      " 17  tvl_ratio                         1 non-null      float64\n",
      " 18  last_updated                      2950 non-null   object \n",
      " 19  quote                             2950 non-null   object \n",
      " 20  Category Name                     2950 non-null   object \n",
      "dtypes: bool(1), float64(7), int64(4), object(9)\n",
      "memory usage: 463.9+ KB\n"
     ]
    }
   ],
   "source": [
    "df.info()"
   ]
  },
  {
   "cell_type": "code",
   "execution_count": 88,
   "metadata": {},
   "outputs": [
    {
     "name": "stdout",
     "output_type": "stream",
     "text": [
      "Numero de filas duplicadas: 263\n"
     ]
    }
   ],
   "source": [
    "# Verificar duplicados\n",
    "duplicates = df.duplicated().sum()\n",
    "print(\"Numero de filas duplicadas:\", duplicates)"
   ]
  },
  {
   "cell_type": "code",
   "execution_count": 89,
   "metadata": {},
   "outputs": [],
   "source": [
    "df = df.drop_duplicates()"
   ]
  },
  {
   "cell_type": "code",
   "execution_count": 90,
   "metadata": {},
   "outputs": [
    {
     "name": "stdout",
     "output_type": "stream",
     "text": [
      "Numero de filas duplicadas: 0\n"
     ]
    }
   ],
   "source": [
    "duplicates = df.duplicated().sum()\n",
    "print(\"Numero de filas duplicadas:\", duplicates)"
   ]
  },
  {
   "cell_type": "code",
   "execution_count": 91,
   "metadata": {},
   "outputs": [
    {
     "name": "stdout",
     "output_type": "stream",
     "text": [
      "Valores nulos por columna:\n",
      " id                                     0\n",
      "name                                   0\n",
      "symbol                                 0\n",
      "slug                                   0\n",
      "num_market_pairs                       0\n",
      "date_added                             0\n",
      "tags                                   0\n",
      "max_supply                           425\n",
      "circulating_supply                     0\n",
      "total_supply                           0\n",
      "platform                              94\n",
      "is_active                              0\n",
      "infinite_supply                        0\n",
      "cmc_rank                             933\n",
      "is_fiat                                0\n",
      "self_reported_circulating_supply     528\n",
      "self_reported_market_cap             528\n",
      "tvl_ratio                           2686\n",
      "last_updated                           0\n",
      "quote                                  0\n",
      "Category Name                          0\n",
      "dtype: int64\n"
     ]
    }
   ],
   "source": [
    "valores_nulos_por_columna = df.isnull().sum()\n",
    "print(\"Valores nulos por columna:\\n\", valores_nulos_por_columna)"
   ]
  },
  {
   "cell_type": "code",
   "execution_count": 92,
   "metadata": {},
   "outputs": [],
   "source": [
    "#Al ver que la columna tvl_ratio esta practicamente vacia, la dropeamos\n",
    "df = df.drop(columns=['tvl_ratio'])"
   ]
  },
  {
   "cell_type": "code",
   "execution_count": 93,
   "metadata": {},
   "outputs": [],
   "source": [
    "#En el caso de self_reported_circulating_supply y self_reported_market_cap al ser una gran cantidad de datos los reemplazamos\n",
    "promedio_market_cap = df['self_reported_market_cap'].mean()\n",
    "promedio_circulating_supply = df['self_reported_circulating_supply'].mean()\n",
    "\n",
    "# Llenar los valores faltantes con los promedios\n",
    "df['self_reported_market_cap'].fillna(promedio_market_cap, inplace=True)\n",
    "df['self_reported_circulating_supply'].fillna(promedio_circulating_supply, inplace=True)"
   ]
  },
  {
   "cell_type": "code",
   "execution_count": 94,
   "metadata": {},
   "outputs": [],
   "source": [
    "#Para el caso de las columnas max_supply y platform se decidio ponerles valor 0 \n",
    "#por lo que representa esta falta de datos\n",
    "df['max_supply'].fillna(0, inplace=True)\n",
    "df['platform'].fillna(0, inplace=True)\n",
    "#De forma similar para cmc_rank, ya que estos representan los ultimos lugares\n",
    "df['cmc_rank'].fillna(0, inplace=True)"
   ]
  },
  {
   "cell_type": "code",
   "execution_count": 95,
   "metadata": {},
   "outputs": [
    {
     "name": "stdout",
     "output_type": "stream",
     "text": [
      "Valores nulos por columna:\n",
      " id                                  0\n",
      "name                                0\n",
      "symbol                              0\n",
      "slug                                0\n",
      "num_market_pairs                    0\n",
      "date_added                          0\n",
      "tags                                0\n",
      "max_supply                          0\n",
      "circulating_supply                  0\n",
      "total_supply                        0\n",
      "platform                            0\n",
      "is_active                           0\n",
      "infinite_supply                     0\n",
      "cmc_rank                            0\n",
      "is_fiat                             0\n",
      "self_reported_circulating_supply    0\n",
      "self_reported_market_cap            0\n",
      "last_updated                        0\n",
      "quote                               0\n",
      "Category Name                       0\n",
      "dtype: int64\n"
     ]
    }
   ],
   "source": [
    "#Verificamos que no queden datos vacios\n",
    "valores_nulos_por_columna = df.isnull().sum()\n",
    "print(\"Valores nulos por columna:\\n\", valores_nulos_por_columna)"
   ]
  },
  {
   "cell_type": "code",
   "execution_count": 96,
   "metadata": {},
   "outputs": [
    {
     "name": "stdout",
     "output_type": "stream",
     "text": [
      "Duplicados en la columna 'id':\n",
      "(404, 20)\n",
      "Duplicados en la columna 'name':\n",
      "(488, 20)\n",
      "Duplicados en la columna 'symbol':\n",
      "(806, 20)\n"
     ]
    }
   ],
   "source": [
    "#Verificamos duplicados en columnas unicas\n",
    "\n",
    "# Verificar duplicados en la columna 'id'\n",
    "duplicados_id = df[df.duplicated(['id'], keep=False)]\n",
    "print(\"Duplicados en la columna 'id':\")\n",
    "print(duplicados_id.shape)\n",
    "\n",
    "# Verificar duplicados en la columna 'name'\n",
    "duplicados_name = df[df.duplicated(['name'], keep=False)]\n",
    "print(\"Duplicados en la columna 'name':\")\n",
    "print(duplicados_name.shape)\n",
    "\n",
    "# Verificar duplicados en la columna 'symbol'\n",
    "duplicados_symbol = df[df.duplicated(['symbol'], keep=False)]\n",
    "print(\"Duplicados en la columna 'symbol':\")\n",
    "print(duplicados_symbol.shape)"
   ]
  },
  {
   "cell_type": "code",
   "execution_count": 97,
   "metadata": {},
   "outputs": [
    {
     "name": "stdout",
     "output_type": "stream",
     "text": [
      "Duplicados en la columna 'id' y 'Category Name':\n",
      "(311, 20)\n",
      "Duplicados en la columna 'name' y 'Category Name':\n",
      "(395, 20)\n",
      "Duplicados en la columna 'symbol' y 'Category Name':\n",
      "(667, 20)\n"
     ]
    }
   ],
   "source": [
    "#Para estar seguros que no pertenecientes a diferentes categorias tambien los filtraremos con esa variable\n",
    "\n",
    "# Verificar duplicados en la columna 'id' y 'Category Name'\n",
    "duplicados_id_categoria = df[df.duplicated(['id', 'Category Name'], keep=False)]\n",
    "print(\"Duplicados en la columna 'id' y 'Category Name':\")\n",
    "print(duplicados_id_categoria.shape)\n",
    "\n",
    "# Verificar duplicados en la columna 'name' y 'Category Name'\n",
    "duplicados_name_categoria = df[df.duplicated(['name', 'Category Name'], keep=False)]\n",
    "print(\"Duplicados en la columna 'name' y 'Category Name':\")\n",
    "print(duplicados_name_categoria.shape)\n",
    "\n",
    "# Verificar duplicados en la columna 'symbol' y 'Category Name'\n",
    "duplicados_symbol_categoria = df[df.duplicated(['symbol', 'Category Name'], keep=False)]\n",
    "print(\"Duplicados en la columna 'symbol' y 'Category Name':\")\n",
    "print(duplicados_symbol_categoria.shape)"
   ]
  },
  {
   "cell_type": "code",
   "execution_count": 98,
   "metadata": {},
   "outputs": [],
   "source": [
    "# Finalmente borramos los registros duplicados\n",
    "\n",
    "# Eliminar duplicados en la columna 'id' y 'Category Name'\n",
    "df = df.drop_duplicates(['id', 'Category Name'], keep='first')\n",
    "\n",
    "# Eliminar duplicados en la columna 'name' y 'Category Name'\n",
    "df = df.drop_duplicates(['name', 'Category Name'], keep='first')\n",
    "\n",
    "# Eliminar duplicados en la columna 'symbol' y 'Category Name'\n",
    "df = df.drop_duplicates(['symbol', 'Category Name'], keep='first')"
   ]
  },
  {
   "cell_type": "code",
   "execution_count": 99,
   "metadata": {},
   "outputs": [
    {
     "name": "stdout",
     "output_type": "stream",
     "text": [
      "Duplicados en la columna 'id' y 'Category Name':\n",
      "(0, 20)\n",
      "Duplicados en la columna 'name' y 'Category Name':\n",
      "(0, 20)\n",
      "Duplicados en la columna 'symbol' y 'Category Name':\n",
      "(0, 20)\n"
     ]
    }
   ],
   "source": [
    "#Verificamos ahora que no queden valores duplicados\n",
    "\n",
    "duplicados_id_categoria = df[df.duplicated(['id', 'Category Name'], keep=False)]\n",
    "print(\"Duplicados en la columna 'id' y 'Category Name':\")\n",
    "print(duplicados_id_categoria.shape)\n",
    "duplicados_name_categoria = df[df.duplicated(['name', 'Category Name'], keep=False)]\n",
    "print(\"Duplicados en la columna 'name' y 'Category Name':\")\n",
    "print(duplicados_name_categoria.shape)\n",
    "duplicados_symbol_categoria = df[df.duplicated(['symbol', 'Category Name'], keep=False)]\n",
    "print(\"Duplicados en la columna 'symbol' y 'Category Name':\")\n",
    "print(duplicados_symbol_categoria.shape)"
   ]
  },
  {
   "cell_type": "code",
   "execution_count": 100,
   "metadata": {},
   "outputs": [
    {
     "name": "stdout",
     "output_type": "stream",
     "text": [
      "Filas con 'circulating_supply' mayor que 'total_supply':\n",
      "(0, 20)\n"
     ]
    }
   ],
   "source": [
    "# Verificar si 'circulating_supply' es menor o igual que 'total_supply'\n",
    "inconsistencias = df[df['circulating_supply'] > df['total_supply']]\n",
    "print(\"Filas con 'circulating_supply' mayor que 'total_supply':\")\n",
    "print(inconsistencias.shape)"
   ]
  },
  {
   "cell_type": "code",
   "execution_count": 109,
   "metadata": {},
   "outputs": [
    {
     "name": "stdout",
     "output_type": "stream",
     "text": [
      "(2273, 20)\n",
      "(2272, 20)\n"
     ]
    }
   ],
   "source": [
    "# Identificar valores anómalos en la columna 'self_reported_market_cap'\n",
    "media_market_cap = df['self_reported_market_cap'].mean()\n",
    "desviacion_estandar_market_cap = df['self_reported_market_cap'].std()\n",
    "\n",
    "# Definir límites para identificar valores anómalos (por ejemplo, +/- 3 desviaciones estándar de la media)\n",
    "limite_superior = media_market_cap + 3 * desviacion_estandar_market_cap\n",
    "limite_inferior = media_market_cap - 3 * desviacion_estandar_market_cap\n",
    "\n",
    "#filtrando el valor anomalo\n",
    "df_filtrado = df[(df['self_reported_market_cap'] <= limite_superior) & (df['self_reported_market_cap'] >= limite_inferior)]\n",
    "print(df.shape)\n",
    "print(df_filtrado.shape)\n"
   ]
  },
  {
   "cell_type": "code",
   "execution_count": 108,
   "metadata": {},
   "outputs": [],
   "source": [
    "#Guardando el nuevo data set\n",
    "\n",
    "df.to_csv('data_criptomonedas_limpio.csv')"
   ]
  },
  {
   "cell_type": "markdown",
   "metadata": {},
   "source": [
    "# Limpieza de la dataset de exchanges"
   ]
  },
  {
   "cell_type": "code",
   "execution_count": 110,
   "metadata": {},
   "outputs": [],
   "source": [
    "df = pd.read_csv('exchanges.csv')"
   ]
  },
  {
   "cell_type": "code",
   "execution_count": 111,
   "metadata": {},
   "outputs": [
    {
     "name": "stdout",
     "output_type": "stream",
     "text": [
      "<class 'pandas.core.frame.DataFrame'>\n",
      "RangeIndex: 100 entries, 0 to 99\n",
      "Data columns (total 12 columns):\n",
      " #   Column                           Non-Null Count  Dtype  \n",
      "---  ------                           --------------  -----  \n",
      " 0   id                               100 non-null    object \n",
      " 1   name                             100 non-null    object \n",
      " 2   year_established                 81 non-null     float64\n",
      " 3   country                          89 non-null     object \n",
      " 4   description                      34 non-null     object \n",
      " 5   url                              100 non-null    object \n",
      " 6   image                            100 non-null    object \n",
      " 7   has_trading_incentive            98 non-null     object \n",
      " 8   trust_score                      100 non-null    int64  \n",
      " 9   trust_score_rank                 100 non-null    int64  \n",
      " 10  trade_volume_24h_btc             100 non-null    float64\n",
      " 11  trade_volume_24h_btc_normalized  100 non-null    float64\n",
      "dtypes: float64(3), int64(2), object(7)\n",
      "memory usage: 9.5+ KB\n"
     ]
    }
   ],
   "source": [
    "df.info()"
   ]
  },
  {
   "cell_type": "code",
   "execution_count": 112,
   "metadata": {},
   "outputs": [
    {
     "name": "stdout",
     "output_type": "stream",
     "text": [
      "Numero de filas duplicadas: 0\n"
     ]
    }
   ],
   "source": [
    "# Verificar duplicados\n",
    "duplicates = df.duplicated().sum()\n",
    "print(\"Numero de filas duplicadas:\", duplicates)"
   ]
  },
  {
   "cell_type": "code",
   "execution_count": 113,
   "metadata": {},
   "outputs": [
    {
     "name": "stdout",
     "output_type": "stream",
     "text": [
      "Valores nulos por columna:\n",
      " id                                  0\n",
      "name                                0\n",
      "year_established                   19\n",
      "country                            11\n",
      "description                        66\n",
      "url                                 0\n",
      "image                               0\n",
      "has_trading_incentive               2\n",
      "trust_score                         0\n",
      "trust_score_rank                    0\n",
      "trade_volume_24h_btc                0\n",
      "trade_volume_24h_btc_normalized     0\n",
      "dtype: int64\n"
     ]
    }
   ],
   "source": [
    "#Verificar valores faltantes\n",
    "valores_nulos_por_columna = df.isnull().sum()\n",
    "print(\"Valores nulos por columna:\\n\", valores_nulos_por_columna)"
   ]
  },
  {
   "cell_type": "code",
   "execution_count": 116,
   "metadata": {},
   "outputs": [],
   "source": [
    "#Empezamos a completar los valores faltantes\n",
    "\n",
    "# Calcular el promedio de los valores existentes en la columna 'year_established'\n",
    "promedio_year_established = df['year_established'].mean()\n",
    "\n",
    "# Llenar los valores faltantes en la columna 'year_established' con el promedio\n",
    "df['year_established'].fillna(promedio_year_established, inplace=True)"
   ]
  },
  {
   "cell_type": "code",
   "execution_count": 117,
   "metadata": {},
   "outputs": [],
   "source": [
    "# Calcular la moda de la columna 'country'\n",
    "moda_country = df['country'].mode()[0]\n",
    "\n",
    "# Llenar los valores faltantes en la columna 'country' con la moda\n",
    "df['country'].fillna(moda_country, inplace=True)"
   ]
  },
  {
   "cell_type": "code",
   "execution_count": 118,
   "metadata": {},
   "outputs": [],
   "source": [
    "# Calcular la moda de la columna 'has_trading_incentive'\n",
    "moda_has_trading_incentive = df['has_trading_incentive'].mode()[0]\n",
    "\n",
    "# Llenar los valores faltantes en la columna 'has_trading_incentive' con la moda\n",
    "df['has_trading_incentive'].fillna(moda_has_trading_incentive, inplace=True)"
   ]
  },
  {
   "cell_type": "code",
   "execution_count": 119,
   "metadata": {},
   "outputs": [
    {
     "name": "stdout",
     "output_type": "stream",
     "text": [
      "Valores nulos por columna:\n",
      " id                                  0\n",
      "name                                0\n",
      "year_established                    0\n",
      "country                             0\n",
      "description                        66\n",
      "url                                 0\n",
      "image                               0\n",
      "has_trading_incentive               0\n",
      "trust_score                         0\n",
      "trust_score_rank                    0\n",
      "trade_volume_24h_btc                0\n",
      "trade_volume_24h_btc_normalized     0\n",
      "dtype: int64\n"
     ]
    }
   ],
   "source": [
    "#Verificamos valores faltantes nuevamente\n",
    "#en el caso de las descripciones no lo tomamos en cuenta\n",
    "valores_nulos_por_columna = df.isnull().sum()\n",
    "print(\"Valores nulos por columna:\\n\", valores_nulos_por_columna)"
   ]
  },
  {
   "cell_type": "code",
   "execution_count": 124,
   "metadata": {},
   "outputs": [
    {
     "name": "stdout",
     "output_type": "stream",
     "text": [
      "(100, 12)\n",
      "Cantidad de valores únicos en la columna 'id': 100\n",
      "Cantidad de valores únicos en la columna 'name': 100\n",
      "Cantidad de valores únicos en la columna 'year_established': 14\n",
      "Cantidad de valores únicos en la columna 'country': 31\n",
      "Cantidad de valores únicos en la columna 'description': 34\n",
      "Cantidad de valores únicos en la columna 'url': 95\n",
      "Cantidad de valores únicos en la columna 'image': 100\n",
      "Cantidad de valores únicos en la columna 'has_trading_incentive': 1\n",
      "Cantidad de valores únicos en la columna 'trust_score': 6\n",
      "Cantidad de valores únicos en la columna 'trust_score_rank': 100\n",
      "Cantidad de valores únicos en la columna 'trade_volume_24h_btc': 100\n",
      "Cantidad de valores únicos en la columna 'trade_volume_24h_btc_normalized': 100\n"
     ]
    }
   ],
   "source": [
    "#Verificamos valores unicos por columna, tomando en cuenta sobretodo id, y name\n",
    "print(df.shape)\n",
    "for columna in df.columns:\n",
    "    cantidad_valores_unicos = df[columna].nunique()\n",
    "    print(f\"Cantidad de valores únicos en la columna '{columna}': {cantidad_valores_unicos}\")"
   ]
  },
  {
   "cell_type": "code",
   "execution_count": 126,
   "metadata": {},
   "outputs": [],
   "source": [
    "#Guardando el nuevo data set\n",
    "\n",
    "df.to_csv('exchanges_limpio.csv')"
   ]
  }
 ],
 "metadata": {
  "kernelspec": {
   "display_name": "Python 3",
   "language": "python",
   "name": "python3"
  },
  "language_info": {
   "codemirror_mode": {
    "name": "ipython",
    "version": 3
   },
   "file_extension": ".py",
   "mimetype": "text/x-python",
   "name": "python",
   "nbconvert_exporter": "python",
   "pygments_lexer": "ipython3",
   "version": "3.9.12"
  }
 },
 "nbformat": 4,
 "nbformat_minor": 2
}
